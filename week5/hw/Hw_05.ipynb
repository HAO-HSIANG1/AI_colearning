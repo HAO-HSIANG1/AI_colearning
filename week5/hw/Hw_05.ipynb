{
 "cells": [
  {
   "cell_type": "code",
   "execution_count": 1,
   "metadata": {},
   "outputs": [],
   "source": [
    "import pandas as pd\n",
    "import numpy as np\n",
    "import matplotlib.pyplot as plt\n",
    "\n",
    "from sklearn.model_selection import train_test_split\n",
    "from sklearn.tree import DecisionTreeRegressor\n",
    "from sklearn.metrics import mean_squared_error as MSE\n",
    "from sklearn.metrics import mean_absolute_error as MAE\n",
    "from sklearn.metrics import mean_absolute_percentage_error as MAPE"
   ]
  },
  {
   "cell_type": "markdown",
   "metadata": {},
   "source": [
    "## 解題步驟：\n",
    "\n",
    "1. 讀取 x_train.npy, y_train.npy, x_test.npy, y_test.npy\n",
    "2. 將 training dataset 再切分為 training set, validation set (圖一)\n",
    "3. 先以上課的知識調整出一個不會 over-fitting 太多的決策樹模型\n",
    "4. 以 validation set 作為調整參數的基準，陸續調整其他參數 (請同學測試看看 validation 要佔多少比例，後續的調整會比較客觀)\n",
    "5. 將最終調整結果與一開始的決策樹做比較，誤差是否有降低\n",
    "6. 同學若也懂其他模型的知識也可以試試看一樣的做法比較看看\n",
    "\n",
    "#### 圖一 (Train, Validation and Test)\n",
    "<img src=\"./train_val_test.png\" style=\"zoom:30%;\" />\n",
    "\n",
    "#### 圖二 (是我前後調整的結果)\n",
    "<img src=\"./report.png\" style=\"zoom:30%;\" />"
   ]
  },
  {
   "cell_type": "code",
   "execution_count": 2,
   "metadata": {},
   "outputs": [
    {
     "name": "stdout",
     "output_type": "stream",
     "text": [
      "(1095, 89) (1095,) (365, 89) (365,)\n"
     ]
    }
   ],
   "source": [
    "# Read data\n",
    "\"\"\" Your code here \"\"\"\n",
    "X_train = np.load('x_train.npy')\n",
    "Y_train = np.load('y_train.npy')\n",
    "X_test = np.load('x_test.npy')\n",
    "Y_test = np.load('y_test.npy')\n",
    "print(X_train.shape, Y_train.shape, X_test.shape, Y_test.shape)"
   ]
  },
  {
   "cell_type": "code",
   "execution_count": 19,
   "metadata": {},
   "outputs": [],
   "source": [
    "def regression_report(DT, x_input, y_true, x_input_type):\n",
    "    print(x_input_type)\n",
    "    pred = DT.predict(x_input)\n",
    "    print('  MAPE:',MAPE(pred, y_true))\n",
    "    print('  MAE:',MAE(pred, y_true))\n",
    "    print('  MSE:',MSE(pred, y_true))"
   ]
  },
  {
   "cell_type": "markdown",
   "metadata": {},
   "source": [
    "## 請同學先依照上課的知識，調整一個沒有 overfitting 的決策樹，請以 mape 作為參考誤差指標，較容易看出關係"
   ]
  },
  {
   "cell_type": "code",
   "execution_count": 23,
   "metadata": {},
   "outputs": [
    {
     "name": "stdout",
     "output_type": "stream",
     "text": [
      "Train\n",
      "  MAPE: 0.0\n",
      "  MAE: 0.0\n",
      "  MSE: 0.0\n",
      "val\n",
      "  MAPE: 0.15261739818414266\n",
      "  MAE: 26004.79908675799\n",
      "  MSE: 1501933012.0776255\n",
      "Test\n",
      "  MAPE: 0.15608103059914055\n",
      "  MAE: 29107.55890410959\n",
      "  MSE: 2894947797.6684933\n"
     ]
    }
   ],
   "source": [
    "\"\"\" Your code here \"\"\"\n",
    "num =0.2\n",
    "x_train, x_val, y_train, y_val = train_test_split(X_train, Y_train, test_size = num)\n",
    "DT = DecisionTreeRegressor().fit(x_train, y_train)\n",
    "# train\n",
    "regression_report(DT, x_train, y_train, 'Train')\n",
    "# val\n",
    "regression_report(DT, x_val, y_val, 'val')\n",
    "# test\n",
    "regression_report(DT, X_test, Y_test, 'Test')"
   ]
  },
  {
   "cell_type": "code",
   "execution_count": 26,
   "metadata": {},
   "outputs": [
    {
     "name": "stdout",
     "output_type": "stream",
     "text": [
      "Train\n",
      "  MAPE: 0.08642473257945087\n",
      "  MAE: 14545.65982947578\n",
      "  MSE: 432960428.98546344\n",
      "val\n",
      "  MAPE: 0.14697533810977342\n",
      "  MAE: 26532.872205419946\n",
      "  MSE: 1468966363.947314\n",
      "Test\n",
      "  MAPE: 0.14973896827803843\n",
      "  MAE: 28534.108831701436\n",
      "  MSE: 2552239007.100131\n"
     ]
    }
   ],
   "source": [
    "# Tuned regressior\n",
    "x_train, x_val, y_train, y_val = train_test_split(X_train, Y_train, test_size = num)\n",
    "DT = DecisionTreeRegressor(max_depth=7, min_samples_split=5, min_samples_leaf=4,  random_state=1).fit(x_train, y_train)#加入max_leaf_nodes, max_feature的效果似乎不好\n",
    "# train\n",
    "regression_report(DT, x_train, y_train, 'Train')\n",
    "# val\n",
    "regression_report(DT, x_val, y_val, 'val')\n",
    "# test\n",
    "regression_report(DT, X_test, Y_test, 'Test')"
   ]
  },
  {
   "cell_type": "code",
   "execution_count": null,
   "metadata": {},
   "outputs": [],
   "source": [
    "'''\n",
    "参数含义：\n",
    "1.criterion:string, optional (default=\"mse\")\n",
    "            它指定了切分质量的评价准则。默认为'mse'(mean squared error)。\n",
    "3.max_depth:int or None, optional (default=None)\n",
    "             指定树的最大深度。如果为None，则表示树的深度不限，直到\n",
    "             每个叶子都是纯净的，即叶节点中所有样本都属于同一个类别，\n",
    "             或者叶子节点中包含小于min_samples_split个样本。\n",
    "4.min_samples_split:int, float, optional (default=2)\n",
    "             整数或者浮点数，默认为2。它指定了分裂一个内部节点(非叶子节点)\n",
    "             需要的最小样本数。如果为浮点数(0到1之间)，最少样本分割数为ceil(min_samples_split * n_samples)\n",
    "5.min_samples_leaf:int, float, optional (default=1)\n",
    "             整数或者浮点数，默认为1。它指定了每个叶子节点包含的最少样本数。\n",
    "             如果为浮点数(0到1之间)，每个叶子节点包含的最少样本数为ceil(min_samples_leaf * n_samples)\n",
    "7.max_feature:int, float, string or None, optional (default=None)\n",
    "             可以是整数，浮点数，字符串或者None。默认为None。\n",
    "             (1).如果是整数，则每次节点分裂只考虑max_feature个特征。\n",
    "             (2).如果是浮点数(0到1之间)，则每次分裂节点的时候只考虑int(max_features * n_features)个特征。\n",
    "             (3).如果是字符串'auto',max_features=n_features。\n",
    "             (4).如果是字符串'sqrt',max_features=sqrt(n_features)。\n",
    "             (5).如果是字符串'log2',max_features=log2(n_features)。\n",
    "             (6).如果是None，max_feature=n_feature。\n",
    "————————————————\n",
    "版权声明：本文为CSDN博主「随遇而安_小强」的原创文章，遵循CC 4.0 BY-SA版权协议，转载请附上原文出处链接及本声明。\n",
    "原文链接：https://blog.csdn.net/qq_16000815/article/details/80954039"
   ]
  },
  {
   "cell_type": "markdown",
   "metadata": {},
   "source": [
    "## 調整 決策樹參數\n",
    "### 請同學從 criterion 的設定中，判斷這組資料集裡的 outlier 多嗎？"
   ]
  },
  {
   "cell_type": "code",
   "execution_count": 37,
   "metadata": {},
   "outputs": [
    {
     "name": "stdout",
     "output_type": "stream",
     "text": [
      "Val MAPE: 0.14368710866794962\n",
      "Val MSE: 1361971047.8\n",
      "Val MAE: 24585.50909090909\n"
     ]
    }
   ],
   "source": [
    "\"\"\" Your code here \"\"\"\n",
    "DT = DecisionTreeRegressor(criterion='mse').fit(x_train, y_train)\n",
    "y_pred_val = DT.predict(x_val)\n",
    "print('Val MAPE:',MAPE(y_pred_val, y_val))\n",
    "print('Val MSE:',MSE(y_pred_val, y_val))\n",
    "print('Val MAE:',MAE(y_pred_val, y_val))\n",
    "# MAE似乎很大，但不知道多大才算大"
   ]
  },
  {
   "cell_type": "markdown",
   "metadata": {},
   "source": [
    "## tuning max_depth"
   ]
  },
  {
   "cell_type": "code",
   "execution_count": 37,
   "metadata": {},
   "outputs": [
    {
     "data": {
      "image/png": "[encoded data removed]",
      "text/plain": [
       "<Figure size 864x288 with 3 Axes>"
      ]
     },
     "metadata": {
      "needs_background": "light"
     },
     "output_type": "display_data"
    }
   ],
   "source": [
    "params = np.arange(4,10,1)\n",
    "train_loss=np.zeros(len(params))\n",
    "val_loss=np.zeros(len(params))\n",
    "test_loss=np.zeros(len(params))\n",
    "\n",
    "for i, param in enumerate(params):\n",
    "    DT = DecisionTreeRegressor(max_depth=param, min_samples_split=5, min_samples_leaf=4,  random_state=1).fit(x_train, y_train)#加入max_leaf_nodes, max_feature的效果似乎不好\n",
    "    # train\n",
    "    y_pred = DT.predict(x_train)\n",
    "    train_loss[i] = MAPE(y_pred, y_train)\n",
    "    # val\n",
    "    y_pred = DT.predict(x_val)\n",
    "    val_loss[i] = MAPE(y_pred, y_val)\n",
    "    # test\n",
    "    y_pred = DT.predict(X_test)\n",
    "    test_loss[i] = MAPE(y_pred, Y_test)\n",
    "    \n",
    "plt.figure(figsize=(12,4))\n",
    "plt.subplot(1,3,1)\n",
    "plt.scatter(params, train_loss)\n",
    "plt.title('train')\n",
    "plt.ylabel('loss')\n",
    "\n",
    "plt.subplot(1,3,2)\n",
    "plt.title('val')\n",
    "plt.scatter(params, val_loss)\n",
    "\n",
    "plt.subplot(1,3,3)\n",
    "plt.title('test')\n",
    "plt.scatter(params, test_loss)\n",
    "\n",
    "plt.show()"
   ]
  },
  {
   "cell_type": "markdown",
   "metadata": {},
   "source": [
    "##  min_samples_split"
   ]
  },
  {
   "cell_type": "code",
   "execution_count": 38,
   "metadata": {},
   "outputs": [
    {
     "data": {
      "image/png": "[encoded data removed]",
      "text/plain": [
       "<Figure size 864x288 with 3 Axes>"
      ]
     },
     "metadata": {
      "needs_background": "light"
     },
     "output_type": "display_data"
    }
   ],
   "source": [
    "params = np.arange(2,20,2)\n",
    "train_loss=np.zeros(len(params))\n",
    "val_loss=np.zeros(len(params))\n",
    "test_loss=np.zeros(len(params))\n",
    "\n",
    "for i, param in enumerate(params):\n",
    "    DT = DecisionTreeRegressor(max_depth=6, min_samples_split=param, min_samples_leaf=4,  random_state=1).fit(x_train, y_train)#加入max_leaf_nodes, max_feature的效果似乎不好\n",
    "    # train\n",
    "    y_pred = DT.predict(x_train)\n",
    "    train_loss[i] = MAPE(y_pred, y_train)\n",
    "    # val\n",
    "    y_pred = DT.predict(x_val)\n",
    "    val_loss[i] = MAPE(y_pred, y_val)\n",
    "    # test\n",
    "    y_pred = DT.predict(X_test)\n",
    "    test_loss[i] = MAPE(y_pred, Y_test)\n",
    "    \n",
    "plt.figure(figsize=(12,4))\n",
    "plt.subplot(1,3,1)\n",
    "plt.scatter(params, train_loss)\n",
    "plt.title('train')\n",
    "plt.ylabel('loss')\n",
    "\n",
    "plt.subplot(1,3,2)\n",
    "plt.title('val')\n",
    "plt.scatter(params, val_loss)\n",
    "\n",
    "plt.subplot(1,3,3)\n",
    "plt.title('test')\n",
    "plt.scatter(params, test_loss)\n",
    "\n",
    "plt.show()"
   ]
  },
  {
   "cell_type": "markdown",
   "metadata": {},
   "source": [
    "##  min_samples_leaf"
   ]
  },
  {
   "cell_type": "code",
   "execution_count": 39,
   "metadata": {},
   "outputs": [
    {
     "data": {
      "image/png": "[encoded data removed]",
      "text/plain": [
       "<Figure size 864x288 with 3 Axes>"
      ]
     },
     "metadata": {
      "needs_background": "light"
     },
     "output_type": "display_data"
    }
   ],
   "source": [
    "params = np.arange(2,20,2)\n",
    "train_loss=np.zeros(len(params))\n",
    "val_loss=np.zeros(len(params))\n",
    "test_loss=np.zeros(len(params))\n",
    "\n",
    "for i, param in enumerate(params):\n",
    "    DT = DecisionTreeRegressor(max_depth=6, min_samples_split=14, min_samples_leaf=param,  random_state=1).fit(x_train, y_train)#加入max_leaf_nodes, max_feature的效果似乎不好\n",
    "    # train\n",
    "    y_pred = DT.predict(x_train)\n",
    "    train_loss[i] = MAPE(y_pred, y_train)\n",
    "    # val\n",
    "    y_pred = DT.predict(x_val)\n",
    "    val_loss[i] = MAPE(y_pred, y_val)\n",
    "    # test\n",
    "    y_pred = DT.predict(X_test)\n",
    "    test_loss[i] = MAPE(y_pred, Y_test)\n",
    "    \n",
    "plt.figure(figsize=(12,4))\n",
    "plt.subplot(1,3,1)\n",
    "plt.scatter(params, train_loss)\n",
    "plt.title('train')\n",
    "plt.ylabel('loss')\n",
    "\n",
    "plt.subplot(1,3,2)\n",
    "plt.title('val')\n",
    "plt.scatter(params, val_loss)\n",
    "\n",
    "plt.subplot(1,3,3)\n",
    "plt.title('test')\n",
    "plt.scatter(params, test_loss)\n",
    "\n",
    "plt.show()"
   ]
  },
  {
   "cell_type": "markdown",
   "metadata": {},
   "source": [
    "## max_features"
   ]
  },
  {
   "cell_type": "code",
   "execution_count": 41,
   "metadata": {},
   "outputs": [
    {
     "data": {
      "image/png": "[encoded data removed]",
      "text/plain": [
       "<Figure size 864x288 with 3 Axes>"
      ]
     },
     "metadata": {
      "needs_background": "light"
     },
     "output_type": "display_data"
    }
   ],
   "source": [
    "params = ['auto', 'sqrt', 'log2']\n",
    "train_loss=np.zeros(len(params))\n",
    "val_loss=np.zeros(len(params))\n",
    "test_loss=np.zeros(len(params))\n",
    "\n",
    "for i, param in enumerate(params):\n",
    "    DT = DecisionTreeRegressor(max_depth=6, min_samples_split=14, min_samples_leaf=10,  max_features=param\\\n",
    "                               , random_state=1).fit(x_train, y_train)\n",
    "    # train\n",
    "    y_pred = DT.predict(x_train)\n",
    "    train_loss[i] = MAPE(y_pred, y_train)\n",
    "    # val\n",
    "    y_pred = DT.predict(x_val)\n",
    "    val_loss[i] = MAPE(y_pred, y_val)\n",
    "    # test\n",
    "    y_pred = DT.predict(X_test)\n",
    "    test_loss[i] = MAPE(y_pred, Y_test)\n",
    "    \n",
    "plt.figure(figsize=(12,4))\n",
    "plt.subplot(1,3,1)\n",
    "plt.scatter(params, train_loss)\n",
    "plt.title('train')\n",
    "plt.ylabel('loss')\n",
    "\n",
    "plt.subplot(1,3,2)\n",
    "plt.title('val')\n",
    "plt.scatter(params, val_loss)\n",
    "\n",
    "plt.subplot(1,3,3)\n",
    "plt.title('test')\n",
    "plt.scatter(params, test_loss)\n",
    "\n",
    "plt.show()"
   ]
  },
  {
   "cell_type": "markdown",
   "metadata": {},
   "source": [
    "## max_leaf_nodes"
   ]
  },
  {
   "cell_type": "code",
   "execution_count": 42,
   "metadata": {},
   "outputs": [
    {
     "data": {
      "image/png": "[encoded data removed]",
      "text/plain": [
       "<Figure size 864x288 with 3 Axes>"
      ]
     },
     "metadata": {
      "needs_background": "light"
     },
     "output_type": "display_data"
    }
   ],
   "source": [
    "params = np.arange(2,10,1)\n",
    "train_loss=np.zeros(len(params))\n",
    "val_loss=np.zeros(len(params))\n",
    "test_loss=np.zeros(len(params))\n",
    "\n",
    "for i, param in enumerate(params):\n",
    "    DT = DecisionTreeRegressor(max_depth=6, min_samples_split=14, min_samples_leaf=10,  max_features='auto'\\\n",
    "                               ,max_leaf_nodes=param,  random_state=1).fit(x_train, y_train)\n",
    "    # train\n",
    "    y_pred = DT.predict(x_train)\n",
    "    train_loss[i] = MAPE(y_pred, y_train)\n",
    "    # val\n",
    "    y_pred = DT.predict(x_val)\n",
    "    val_loss[i] = MAPE(y_pred, y_val)\n",
    "    # test\n",
    "    y_pred = DT.predict(X_test)\n",
    "    test_loss[i] = MAPE(y_pred, Y_test)\n",
    "    \n",
    "plt.figure(figsize=(12,4))\n",
    "plt.subplot(1,3,1)\n",
    "plt.scatter(params, train_loss)\n",
    "plt.title('train')\n",
    "plt.ylabel('loss')\n",
    "\n",
    "plt.subplot(1,3,2)\n",
    "plt.title('val')\n",
    "plt.scatter(params, val_loss)\n",
    "\n",
    "plt.subplot(1,3,3)\n",
    "plt.title('test')\n",
    "plt.scatter(params, test_loss)\n",
    "\n",
    "plt.show()"
   ]
  },
  {
   "cell_type": "markdown",
   "metadata": {},
   "source": [
    "## criterion"
   ]
  },
  {
   "cell_type": "code",
   "execution_count": 48,
   "metadata": {},
   "outputs": [
    {
     "data": {
      "image/png": "[encoded data removed]",
      "text/plain": [
       "<Figure size 864x288 with 3 Axes>"
      ]
     },
     "metadata": {
      "needs_background": "light"
     },
     "output_type": "display_data"
    }
   ],
   "source": [
    "params = ['mse', 'mae', 'friedman_mse']\n",
    "train_loss=np.zeros(len(params))\n",
    "val_loss=np.zeros(len(params))\n",
    "test_loss=np.zeros(len(params))\n",
    "\n",
    "for i, param in enumerate(params):\n",
    "    DT = DecisionTreeRegressor(max_depth=6, min_samples_split=14, min_samples_leaf=10,  max_features='auto'\\\n",
    "                               ,criterion=param, random_state=1).fit(x_train, y_train)\n",
    "    # train\n",
    "    y_pred = DT.predict(x_train)\n",
    "    train_loss[i] = MAPE(y_pred, y_train)\n",
    "    # val\n",
    "    y_pred = DT.predict(x_val)\n",
    "    val_loss[i] = MAPE(y_pred, y_val)\n",
    "    # test\n",
    "    y_pred = DT.predict(X_test)\n",
    "    test_loss[i] = MAPE(y_pred, Y_test)\n",
    "    \n",
    "plt.figure(figsize=(12,4))\n",
    "plt.subplot(1,3,1)\n",
    "plt.scatter(params, train_loss)\n",
    "plt.title('train')\n",
    "plt.ylabel('loss')\n",
    "\n",
    "plt.subplot(1,3,2)\n",
    "plt.title('val')\n",
    "plt.scatter(params, val_loss)\n",
    "\n",
    "plt.subplot(1,3,3)\n",
    "plt.title('test')\n",
    "plt.scatter(params, test_loss)\n",
    "\n",
    "plt.show()"
   ]
  },
  {
   "cell_type": "code",
   "execution_count": 51,
   "metadata": {},
   "outputs": [
    {
     "name": "stdout",
     "output_type": "stream",
     "text": [
      "Train\n",
      "  MAPE: 0.09085263152226025\n",
      "  MAE: 16372.366438356165\n",
      "  MSE: 896672740.423516\n",
      "val\n",
      "  MAPE: 0.13009066798644658\n",
      "  MAE: 22299.027397260274\n",
      "  MSE: 922434925.9497716\n",
      "Test\n",
      "  MAPE: 0.12106871161192495\n",
      "  MAE: 22367.47397260274\n",
      "  MSE: 1353764170.9917808\n"
     ]
    }
   ],
   "source": [
    "DT = DecisionTreeRegressor(max_depth=6, min_samples_split=14, min_samples_leaf=10,  max_features='auto'\\\n",
    "                               ,criterion = 'mae',  random_state=1).fit(x_train, y_train)#加入max_leaf_nodes的效果似乎不好\n",
    "# train\n",
    "regression_report(DT, x_train, y_train, 'Train')\n",
    "# val\n",
    "regression_report(DT, x_val, y_val, 'val')\n",
    "# test\n",
    "regression_report(DT, X_test, Y_test, 'Test')"
   ]
  }
 ],
 "metadata": {
  "interpreter": {
   "hash": "aee8b7b246df8f9039afb4144a1f6fd8d2ca17a180786b69acc140d282b71a49"
  },
  "kernelspec": {
   "display_name": "Python 3",
   "language": "python",
   "name": "python3"
  },
  "language_info": {
   "codemirror_mode": {
    "name": "ipython",
    "version": 3
   },
   "file_extension": ".py",
   "mimetype": "text/x-python",
   "name": "python",
   "nbconvert_exporter": "python",
   "pygments_lexer": "ipython3",
   "version": "3.7.3"
  }
 },
 "nbformat": 4,
 "nbformat_minor": 2
}
