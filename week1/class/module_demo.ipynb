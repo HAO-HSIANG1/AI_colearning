{
 "cells": [
  {
   "cell_type": "code",
   "execution_count": 23,
   "metadata": {},
   "outputs": [],
   "source": [
    "import numpy as np\n",
    "import pandas as pd"
   ]
  },
  {
   "cell_type": "markdown",
   "metadata": {},
   "source": [
    "# Numpy 教學\n",
    "## 1. Numpy array 建立"
   ]
  },
  {
   "cell_type": "code",
   "execution_count": 24,
   "metadata": {},
   "outputs": [
    {
     "name": "stdout",
     "output_type": "stream",
     "text": [
      "[[0. 0. 0.]\n",
      " [0. 0. 0.]\n",
      " [0. 0. 0.]]\n",
      "\n",
      "[[1. 1. 1.]\n",
      " [1. 1. 1.]\n",
      " [1. 1. 1.]]\n",
      "\n",
      "[[-1.28822975e-231  2.32035068e+077  2.96439388e-323]\n",
      " [ 0.00000000e+000  0.00000000e+000  0.00000000e+000]\n",
      " [-1.28822975e-231 -1.28822975e-231  1.48219694e-323]]\n",
      "\n",
      "[0 3 6 9]\n",
      "\n",
      "[ 0.  6. 12.]\n",
      "\n",
      "[0. 0. 0. 0. 0. 0. 0. 0. 0.]\n"
     ]
    }
   ],
   "source": [
    "Zeros = np.zeros((3, 3))\n",
    "Ones = np.ones((3, 3))\n",
    "Empty = np.empty((3, 3))\n",
    "Arange = np.arange(0, 12, 3)\n",
    "Line = np.linspace(0, 12, 3)\n",
    "Reshape = Zeros.reshape(-1)\n",
    "print(Zeros, Ones, Empty, Arange, Line, Reshape, sep = '\\n\\n')"
   ]
  },
  {
   "cell_type": "markdown",
   "metadata": {},
   "source": [
    "## 2. Numpy 計算"
   ]
  },
  {
   "cell_type": "code",
   "execution_count": 25,
   "metadata": {},
   "outputs": [
    {
     "name": "stdout",
     "output_type": "stream",
     "text": [
      "[[ 0  1  2  3]\n",
      " [ 4  5  6  7]\n",
      " [ 8  9 10 11]] \n",
      "\n",
      "sum1, sum2, sum3, sum4, sum5 = ([12 15 18 21], [ 6 22 38], 66, 66, 66)\n"
     ]
    }
   ],
   "source": [
    "arr = np.arange(0, 12).reshape((3, 4))\n",
    "sum1 = np.sum(arr, axis = 0)\n",
    "sum2 = np.sum(arr, axis = 1)\n",
    "sum3 = np.sum(arr, axis = (0, 1))\n",
    "sum4 = np.sum(arr, axis = (1, 0))\n",
    "sum5 = np.sum(arr)\n",
    "print(arr, '\\n')\n",
    "print(f'sum1, sum2, sum3, sum4, sum5 = ({sum1}, {sum2}, {sum3}, {sum4}, {sum5})')"
   ]
  },
  {
   "cell_type": "code",
   "execution_count": 26,
   "metadata": {},
   "outputs": [
    {
     "name": "stdout",
     "output_type": "stream",
     "text": [
      "[24 30 36 42]\n",
      "\n",
      "[0 0 0 0]\n",
      "\n",
      "[36 45 54 63]\n",
      "\n",
      "[ 6.   7.5  9.  10.5]\n"
     ]
    }
   ],
   "source": [
    "print(sum1 + sum1, sum1 - sum1, sum1 * 3, sum1 / 2, sep = '\\n\\n')\n",
    "# sum1 + sum2"
   ]
  },
  {
   "cell_type": "code",
   "execution_count": 27,
   "metadata": {},
   "outputs": [
    {
     "name": "stdout",
     "output_type": "stream",
     "text": [
      "[[False False False False]\n",
      " [False  True False False]\n",
      " [False False False False]]\n",
      "\n",
      "[[False False False False]\n",
      " [False False  True  True]\n",
      " [ True  True  True  True]]\n",
      "\n",
      "[[ True  True  True  True]\n",
      " [ True False False False]\n",
      " [False False False False]]\n"
     ]
    }
   ],
   "source": [
    "print(arr == 5, arr > 5, arr <5, sep = '\\n\\n')"
   ]
  },
  {
   "cell_type": "markdown",
   "metadata": {},
   "source": [
    "## 3. Numpy IO"
   ]
  },
  {
   "cell_type": "code",
   "execution_count": 28,
   "metadata": {},
   "outputs": [],
   "source": [
    "np.save('arr.npy', arr)\n",
    "arr = np.load('arr.npy')"
   ]
  },
  {
   "cell_type": "markdown",
   "metadata": {},
   "source": [
    "# Pandas 教學\n",
    "## 1. Pandas 型別\n",
    "* Series\n",
    "* Dataframe"
   ]
  },
  {
   "cell_type": "code",
   "execution_count": 29,
   "metadata": {},
   "outputs": [
    {
     "name": "stdout",
     "output_type": "stream",
     "text": [
      "0    12\n",
      "1    15\n",
      "2    18\n",
      "3    21\n",
      "dtype: int64\n",
      "\n",
      "0    1\n",
      "1    2\n",
      "2    3\n",
      "3    4\n",
      "dtype: int64\n"
     ]
    }
   ],
   "source": [
    "# ------------- Series -------------\n",
    "\n",
    "# From numpy array\n",
    "series1 = pd.Series(sum1)\n",
    "\n",
    "# From Python's list\n",
    "series2 = pd.Series([1, 2, 3, 4])\n",
    "\n",
    "print(series1, series2, sep = '\\n\\n')"
   ]
  },
  {
   "cell_type": "code",
   "execution_count": 4,
   "metadata": {},
   "outputs": [
    {
     "name": "stdout",
     "output_type": "stream",
     "text": [
      "                col0      col1      col2      col3\n",
      "2021-01-01  0.634531  0.330870  1.730830  0.765785\n",
      "2021-01-02 -0.000893  0.752005 -0.848354 -1.940398\n",
      "2021-01-03 -0.251021  0.641798  0.492876 -0.512745\n",
      "2021-01-04 -0.584171  1.173616  0.596560 -0.537101\n",
      "2021-01-05 -1.140709 -0.419344 -0.588302  0.062054\n",
      "2021-01-06 -0.424615 -0.085499  1.659300 -0.698844 \n",
      "\n",
      "DatetimeIndex(['2021-01-01', '2021-01-02', '2021-01-03', '2021-01-04',\n",
      "               '2021-01-05', '2021-01-06'],\n",
      "              dtype='datetime64[ns]', freq='D')\n",
      "\n",
      "Index(['col0', 'col1', 'col2', 'col3'], dtype='object')\n",
      "\n",
      "           col0      col1      col2      col3\n",
      "count  6.000000  6.000000  6.000000  6.000000\n",
      "mean  -0.294480  0.398908  0.507152 -0.476875\n",
      "std    0.594660  0.581835  1.083554  0.897857\n",
      "min   -1.140709 -0.419344 -0.848354 -1.940398\n",
      "25%   -0.544282  0.018593 -0.318007 -0.658408\n",
      "50%   -0.337818  0.486334  0.544718 -0.524923\n",
      "75%   -0.063425  0.724453  1.393615 -0.081646\n",
      "max    0.634531  1.173616  1.730830  0.765785\n"
     ]
    }
   ],
   "source": [
    "# ------------- Dataframe -------------\n",
    "dates = pd.date_range('20210101',periods = 6)\n",
    "df = pd.DataFrame(np.random.randn(6, 4), index=dates, columns = [f\"col{i}\" for i in range(4)])\n",
    "print(df, '\\n')\n",
    "print(df.index, df.columns, df.describe(), sep = '\\n\\n')"
   ]
  },
  {
   "cell_type": "markdown",
   "metadata": {},
   "source": [
    "## 2. 索引\n",
    "* simple\n",
    "* loc\n",
    "* iloc\n",
    "* ix(deprecated in 0.20.0 version)"
   ]
  },
  {
   "cell_type": "code",
   "execution_count": 5,
   "metadata": {},
   "outputs": [
    {
     "name": "stdout",
     "output_type": "stream",
     "text": [
      "------- simple demo -------\n",
      "2021-01-01    0.330870\n",
      "2021-01-02    0.752005\n",
      "2021-01-03    0.641798\n",
      "2021-01-04    1.173616\n",
      "2021-01-05   -0.419344\n",
      "2021-01-06   -0.085499\n",
      "Freq: D, Name: col1, dtype: float64\n",
      "\n",
      "                col1      col2\n",
      "2021-01-01  0.330870  1.730830\n",
      "2021-01-02  0.752005 -0.848354\n",
      "2021-01-03  0.641798  0.492876\n",
      "2021-01-04  1.173616  0.596560\n",
      "2021-01-05 -0.419344 -0.588302\n",
      "2021-01-06 -0.085499  1.659300\n",
      "\n",
      "2021-01-01    0.330870\n",
      "2021-01-02    0.752005\n",
      "Freq: D, Name: col1, dtype: float64\n",
      "\n",
      "2021-01-01    0.330870\n",
      "2021-01-02    0.752005\n",
      "Freq: D, Name: col1, dtype: float64\n",
      "\n",
      "------- loc demo -------\n",
      "2021-01-01    0.330870\n",
      "2021-01-02    0.752005\n",
      "Freq: D, Name: col1, dtype: float64\n",
      "\n",
      "------- iloc demo -------\n",
      "                col0      col1      col2      col3\n",
      "2021-01-01  0.634531  0.330870  1.730830  0.765785\n",
      "2021-01-02 -0.000893  0.752005 -0.848354 -1.940398\n",
      "\n"
     ]
    }
   ],
   "source": [
    "# simple(順序沒差)\n",
    "print('------- simple demo -------')\n",
    "print(df['col1'], df[['col1', 'col2']], df[:'2021-01-02']['col1'], df['col1'][:'2021-01-02'], sep = '\\n\\n')\n",
    "print()\n",
    "\n",
    "# loc (先 row 後 column)\n",
    "print('------- loc demo -------')\n",
    "print(df.loc[:'2021-01-02']['col1'], sep = '\\n\\n')\n",
    "print()\n",
    "# df['col1']\n",
    "\n",
    "# iloc (先 row 後 column)\n",
    "print('------- iloc demo -------')\n",
    "print(df.iloc[:2][:3], sep = '\\n\\n')\n",
    "print()\n",
    "\n",
    "# !! ix had deprecated in Pandas == 0.20.0 !!\n",
    "# ix (先 row 後 column)\n",
    "# print(df.ix[:2][:col3], sep = '\\n\\n')\n",
    "# print()\n"
   ]
  },
  {
   "cell_type": "markdown",
   "metadata": {},
   "source": [
    "## 3. 合併與連接\n",
    "- pandas.concat\n",
    "- pandas.merge"
   ]
  },
  {
   "cell_type": "code",
   "execution_count": 6,
   "metadata": {},
   "outputs": [
    {
     "name": "stdout",
     "output_type": "stream",
     "text": [
      "df: \n",
      "                col0      col1      col2      col3\n",
      "2021-01-01  0.634531  0.330870  1.730830  0.765785\n",
      "2021-01-02 -0.000893  0.752005 -0.848354 -1.940398\n",
      "2021-01-03 -0.251021  0.641798  0.492876 -0.512745\n",
      "2021-01-04 -0.584171  1.173616  0.596560 -0.537101\n",
      "2021-01-05 -1.140709 -0.419344 -0.588302  0.062054\n",
      "2021-01-06 -0.424615 -0.085499  1.659300 -0.698844\n",
      "\n",
      "tmp: \n",
      "                col2      col3      col4      col5\n",
      "2021-01-01 -0.815611 -0.209063  0.901397  0.528315\n",
      "2021-01-02 -0.587821 -0.419782 -0.276112 -1.986292\n",
      "2021-01-03  0.666643 -0.008753  0.220077  0.208773\n",
      "2021-01-04  1.460349 -1.097022  0.413291 -0.316742\n",
      "2021-01-05 -0.132234 -1.984694  0.771532 -0.731836\n",
      "2021-01-06  0.046154  0.127128  0.608383 -1.290315\n",
      "\n",
      "------- axis demo -------\n",
      "axis = 1: \n",
      "                col0      col1      col2      col3      col2      col3  \\\n",
      "2021-01-01  0.634531  0.330870  1.730830  0.765785 -0.815611 -0.209063   \n",
      "2021-01-02 -0.000893  0.752005 -0.848354 -1.940398 -0.587821 -0.419782   \n",
      "2021-01-03 -0.251021  0.641798  0.492876 -0.512745  0.666643 -0.008753   \n",
      "2021-01-04 -0.584171  1.173616  0.596560 -0.537101  1.460349 -1.097022   \n",
      "2021-01-05 -1.140709 -0.419344 -0.588302  0.062054 -0.132234 -1.984694   \n",
      "2021-01-06 -0.424615 -0.085499  1.659300 -0.698844  0.046154  0.127128   \n",
      "\n",
      "                col4      col5  \n",
      "2021-01-01  0.901397  0.528315  \n",
      "2021-01-02 -0.276112 -1.986292  \n",
      "2021-01-03  0.220077  0.208773  \n",
      "2021-01-04  0.413291 -0.316742  \n",
      "2021-01-05  0.771532 -0.731836  \n",
      "2021-01-06  0.608383 -1.290315  \n",
      "\n",
      "axis = 0: \n",
      "                col0      col1      col2      col3      col4      col5\n",
      "2021-01-01  0.634531  0.330870  1.730830  0.765785       NaN       NaN\n",
      "2021-01-02 -0.000893  0.752005 -0.848354 -1.940398       NaN       NaN\n",
      "2021-01-03 -0.251021  0.641798  0.492876 -0.512745       NaN       NaN\n",
      "2021-01-04 -0.584171  1.173616  0.596560 -0.537101       NaN       NaN\n",
      "2021-01-05 -1.140709 -0.419344 -0.588302  0.062054       NaN       NaN\n",
      "2021-01-06 -0.424615 -0.085499  1.659300 -0.698844       NaN       NaN\n",
      "2021-01-01       NaN       NaN -0.815611 -0.209063  0.901397  0.528315\n",
      "2021-01-02       NaN       NaN -0.587821 -0.419782 -0.276112 -1.986292\n",
      "2021-01-03       NaN       NaN  0.666643 -0.008753  0.220077  0.208773\n",
      "2021-01-04       NaN       NaN  1.460349 -1.097022  0.413291 -0.316742\n",
      "2021-01-05       NaN       NaN -0.132234 -1.984694  0.771532 -0.731836\n",
      "2021-01-06       NaN       NaN  0.046154  0.127128  0.608383 -1.290315\n",
      "\n",
      "------- join demo --------\n",
      "join = outer: \n",
      "                col0      col1      col2      col3      col4      col5\n",
      "2021-01-01  0.634531  0.330870  1.730830  0.765785       NaN       NaN\n",
      "2021-01-02 -0.000893  0.752005 -0.848354 -1.940398       NaN       NaN\n",
      "2021-01-03 -0.251021  0.641798  0.492876 -0.512745       NaN       NaN\n",
      "2021-01-04 -0.584171  1.173616  0.596560 -0.537101       NaN       NaN\n",
      "2021-01-05 -1.140709 -0.419344 -0.588302  0.062054       NaN       NaN\n",
      "2021-01-06 -0.424615 -0.085499  1.659300 -0.698844       NaN       NaN\n",
      "2021-01-01       NaN       NaN -0.815611 -0.209063  0.901397  0.528315\n",
      "2021-01-02       NaN       NaN -0.587821 -0.419782 -0.276112 -1.986292\n",
      "2021-01-03       NaN       NaN  0.666643 -0.008753  0.220077  0.208773\n",
      "2021-01-04       NaN       NaN  1.460349 -1.097022  0.413291 -0.316742\n",
      "2021-01-05       NaN       NaN -0.132234 -1.984694  0.771532 -0.731836\n",
      "2021-01-06       NaN       NaN  0.046154  0.127128  0.608383 -1.290315\n",
      "\n",
      "join = inner: \n",
      "                col2      col3\n",
      "2021-01-01  1.730830  0.765785\n",
      "2021-01-02 -0.848354 -1.940398\n",
      "2021-01-03  0.492876 -0.512745\n",
      "2021-01-04  0.596560 -0.537101\n",
      "2021-01-05 -0.588302  0.062054\n",
      "2021-01-06  1.659300 -0.698844\n",
      "2021-01-01 -0.815611 -0.209063\n",
      "2021-01-02 -0.587821 -0.419782\n",
      "2021-01-03  0.666643 -0.008753\n",
      "2021-01-04  1.460349 -1.097022\n",
      "2021-01-05 -0.132234 -1.984694\n",
      "2021-01-06  0.046154  0.127128\n",
      "\n"
     ]
    }
   ],
   "source": [
    "# ------------- concat demo -------------\n",
    "dates = pd.date_range('20210101',periods = 6)\n",
    "tmp = pd.DataFrame(np.random.randn(6, 4), index=dates, columns = [f\"col{i}\" for i in range(2, 6)])\n",
    "print(f'df: \\n{df}\\n')\n",
    "print(f'tmp: \\n{tmp}\\n')\n",
    "\n",
    "# ------- axis demo -------\n",
    "print('------- axis demo -------')\n",
    "df1 = pd.concat([df, tmp], axis = 1)\n",
    "df2 = pd.concat([df, tmp], axis = 0)\n",
    "print(f'axis = 1: \\n{df1}\\n')\n",
    "print(f'axis = 0: \\n{df2}\\n')\n",
    "\n",
    "# ------- join demo -------\n",
    "print('------- join demo --------')\n",
    "df1 = pd.concat([df, tmp], join = 'outer') # 聯集\n",
    "df2 = pd.concat([df, tmp], join = 'inner') # 交集\n",
    "print(f'join = outer: \\n{df1}\\n')\n",
    "print(f'join = inner: \\n{df2}\\n')"
   ]
  },
  {
   "cell_type": "code",
   "execution_count": 7,
   "metadata": {},
   "outputs": [
    {
     "name": "stdout",
     "output_type": "stream",
     "text": [
      "left:\n",
      "  key1 key2   A   B\n",
      "0   K0   K0  A0  B0\n",
      "1   K0   K1  A1  B1\n",
      "2   K1   K0  A2  B2\n",
      "3   K2   K1  A3  B3\n",
      "\n",
      "right:\n",
      "  key1 key2   C   D\n",
      "0   K0   K0  C0  D0\n",
      "1   K1   K0  C1  D1\n",
      "2   K1   K0  C2  D2\n",
      "3   K2   K0  C3  D3\n",
      "\n",
      "how = inner:\n",
      "  key1 key2   A   B   C   D\n",
      "0   K0   K0  A0  B0  C0  D0\n",
      "1   K1   K0  A2  B2  C1  D1\n",
      "2   K1   K0  A2  B2  C2  D2\n",
      "\n",
      "how = outer:\n",
      "  key1 key2    A    B    C    D\n",
      "0   K0   K0   A0   B0   C0   D0\n",
      "1   K0   K1   A1   B1  NaN  NaN\n",
      "2   K1   K0   A2   B2   C1   D1\n",
      "3   K1   K0   A2   B2   C2   D2\n",
      "4   K2   K1   A3   B3  NaN  NaN\n",
      "5   K2   K0  NaN  NaN   C3   D3\n",
      "\n",
      "how = left:\n",
      "  key1 key2   A   B    C    D\n",
      "0   K0   K0  A0  B0   C0   D0\n",
      "1   K0   K1  A1  B1  NaN  NaN\n",
      "2   K1   K0  A2  B2   C1   D1\n",
      "3   K1   K0  A2  B2   C2   D2\n",
      "4   K2   K1  A3  B3  NaN  NaN\n",
      "\n",
      "how = right:\n",
      "  key1 key2    A    B   C   D\n",
      "0   K0   K0   A0   B0  C0  D0\n",
      "1   K1   K0   A2   B2  C1  D1\n",
      "2   K1   K0   A2   B2  C2  D2\n",
      "3   K2   K0  NaN  NaN  C3  D3\n",
      "\n"
     ]
    }
   ],
   "source": [
    "# ------- merge -------\n",
    "left = pd.DataFrame({'key1': ['K0', 'K0', 'K1', 'K2'],\n",
    "                      'key2': ['K0', 'K1', 'K0', 'K1'],\n",
    "                      'A': ['A0', 'A1', 'A2', 'A3'],\n",
    "                      'B': ['B0', 'B1', 'B2', 'B3']})\n",
    "right = pd.DataFrame({'key1': ['K0', 'K1', 'K1', 'K2'],\n",
    "                       'key2': ['K0', 'K0', 'K0', 'K0'],\n",
    "                       'C': ['C0', 'C1', 'C2', 'C3'],\n",
    "                       'D': ['D0', 'D1', 'D2', 'D3']})\n",
    "\n",
    "print(f'left:\\n{left}\\n')\n",
    "\n",
    "\n",
    "print(f'right:\\n{right}\\n')\n",
    "\n",
    "# -------- demo how -------\n",
    "res = pd.merge(left, right, on=['key1', 'key2'], how='inner')\n",
    "print(f'how = inner:\\n{res}\\n')\n",
    "\n",
    "res = pd.merge(left, right, on=['key1', 'key2'], how='outer')\n",
    "print(f'how = outer:\\n{res}\\n')\n",
    "\n",
    "res = pd.merge(left, right, on=['key1', 'key2'], how='left')\n",
    "print(f'how = left:\\n{res}\\n')\n",
    "\n",
    "res = pd.merge(left, right, on=['key1', 'key2'], how='right')\n",
    "print(f'how = right:\\n{res}\\n')"
   ]
  },
  {
   "cell_type": "markdown",
   "metadata": {},
   "source": [
    "## 4. 統計函數"
   ]
  },
  {
   "cell_type": "code",
   "execution_count": 21,
   "metadata": {},
   "outputs": [
    {
     "name": "stdout",
     "output_type": "stream",
     "text": [
      "------- 平均數 -------\n",
      "mean: \n",
      "a    0.239071\n",
      "b    0.179996\n",
      "c   -0.396319\n",
      "d   -0.064789\n",
      "e   -0.339403\n",
      "dtype: float64\n",
      "\n",
      "------- 標準差 -------\n",
      "std: \n",
      "a    0.788147\n",
      "b    0.729703\n",
      "c    0.896874\n",
      "d    0.780933\n",
      "e    1.092634\n",
      "dtype: float64\n",
      "\n",
      "------- 共變異數 -------\n",
      "Cov(a, b) = 0.10165984211286627\n",
      "\n",
      "Cov(all): \n",
      "          a         b         c         d         e\n",
      "a  0.621175  0.101660 -0.169685  0.461521  0.018407\n",
      "b  0.101660  0.532466 -0.401042  0.023025 -0.329124\n",
      "c -0.169685 -0.401042  0.804382 -0.136661 -0.050360\n",
      "d  0.461521  0.023025 -0.136661  0.609856  0.118855\n",
      "e  0.018407 -0.329124 -0.050360  0.118855  1.193849\n",
      "\n",
      "------- 相關係數 -------\n",
      "Corr(a, b) = 0.17676510994632588\n",
      "\n",
      "Corr(all): \n",
      "          a         b         c         d         e\n",
      "a  1.000000  0.176765 -0.240052  0.749844  0.021375\n",
      "b  0.176765  1.000000 -0.612791  0.040406 -0.412800\n",
      "c -0.240052 -0.612791  1.000000 -0.195119 -0.051390\n",
      "d  0.749844  0.040406 -0.195119  1.000000  0.139293\n",
      "e  0.021375 -0.412800 -0.051390  0.139293  1.000000\n",
      "\n"
     ]
    }
   ],
   "source": [
    "df = pd.DataFrame(np.random.randn(10, 5), columns=[\"a\", \"b\", \"c\", \"d\", \"e\"])\n",
    "\n",
    "# ------- 平均數 -------\n",
    "print('------- 平均數 -------')\n",
    "print (f\"mean: \\n{df.mean()}\\n\")\n",
    "\n",
    "# ------- 標準差 -------\n",
    "print('------- 標準差 -------')\n",
    "print (f\"std: \\n{df.std()}\\n\")\n",
    "\n",
    "# ------- 共變異數 -------\n",
    "print('------- 共變異數 -------')\n",
    "\n",
    "# Cov(a, b)\n",
    "print (f\"Cov(a, b) = {df['a'].cov(df['b'])}\\n\")\n",
    "\n",
    "# Cov(all)\n",
    "print (f\"Cov(all): \\n{df.cov()}\\n\")\n",
    "\n",
    "# ------- 相關係數 -------\n",
    "print('------- 相關係數 -------')\n",
    "# Corr(a, b)\n",
    "print (f\"Corr(a, b) = {df['a'].corr(df['b'])}\\n\")\n",
    "\n",
    "# Corr(all)\n",
    "print (f\"Corr(all): \\n{df.corr()}\\n\")\n",
    "\n"
   ]
  },
  {
   "cell_type": "markdown",
   "metadata": {},
   "source": [
    "## 5. 其他\n",
    "- IO(Input & Output)\n",
    "- Something about nan"
   ]
  },
  {
   "cell_type": "code",
   "execution_count": 40,
   "metadata": {},
   "outputs": [],
   "source": [
    "# -------- IO -------\n",
    "df = pd.read_csv('homework.csv')\n",
    "# df.to_csv(index = False)"
   ]
  },
  {
   "cell_type": "code",
   "execution_count": 45,
   "metadata": {},
   "outputs": [
    {
     "data": {
      "text/plain": [
       "True"
      ]
     },
     "execution_count": 45,
     "metadata": {},
     "output_type": "execute_result"
    }
   ],
   "source": [
    "# ------- Something about nan -------\n",
    "df = pd.read_csv('homework.csv')\n",
    "\n",
    "# drop \n",
    "df1 = df.dropna(axis = 0, how = 'any')\n",
    "\n",
    "# 補零\n",
    "df2 = df.fillna(value = 0)\n",
    "\n",
    "# 用一個 dictionary 填補\n",
    "df3 = df.fillna(value = {f\"col{i}\" : i for i in range(df.shape[1])})\n",
    "\n",
    "# 判斷 df 裡是否有 nan\n",
    "True in np.asarray(df.isnull())"
   ]
  },
  {
   "cell_type": "code",
   "execution_count": null,
   "metadata": {},
   "outputs": [],
   "source": []
  }
 ],
 "metadata": {
  "kernelspec": {
   "display_name": "Python 3",
   "language": "python",
   "name": "python3"
  },
  "language_info": {
   "codemirror_mode": {
    "name": "ipython",
    "version": 3
   },
   "file_extension": ".py",
   "mimetype": "text/x-python",
   "name": "python",
   "nbconvert_exporter": "python",
   "pygments_lexer": "ipython3",
   "version": "3.7.3"
  },
  "metadata": {
   "interpreter": {
    "hash": "aee8b7b246df8f9039afb4144a1f6fd8d2ca17a180786b69acc140d282b71a49"
   }
  }
 },
 "nbformat": 4,
 "nbformat_minor": 5
}
